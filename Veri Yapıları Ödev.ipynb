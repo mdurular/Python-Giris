{
 "cells": [
  {
   "cell_type": "markdown",
   "metadata": {},
   "source": [
    "# Veri Yapıları Soru 1"
   ]
  },
  {
   "cell_type": "code",
   "execution_count": 1,
   "metadata": {},
   "outputs": [
    {
     "name": "stdout",
     "output_type": "stream",
     "text": [
      "['pazartesi', 'salı', 'Çarşamba', 'Perşembe', 'Cuma', 'Cumartesi', 'Pazar']\n",
      "silmek istediğiniz iki günü seçiniz:25\n",
      "Güncel Listeniz: ['pazartesi', 'Çarşamba', 'Perşembe', 'Cumartesi', 'Pazar']\n"
     ]
    }
   ],
   "source": [
    "gunler={'1':'pazartesi','2':'salı','3':'Çarşamba','4':'Perşembe','5':'Cuma','6':'Cumartesi','7':'Pazar'}\n",
    "print(list(gunler.values()))\n",
    "Secilen_gun=input(\"silmek istediğiniz iki günü seçiniz:\")\n",
    "del gunler[Secilen_gun[0]]\n",
    "del gunler[Secilen_gun[1]]\n",
    "print(\"Güncel Listeniz:\",list(gunler.values()))"
   ]
  },
  {
   "cell_type": "markdown",
   "metadata": {},
   "source": [
    "# Veri Yapıları Soru 2"
   ]
  },
  {
   "cell_type": "code",
   "execution_count": 2,
   "metadata": {},
   "outputs": [
    {
     "name": "stdout",
     "output_type": "stream",
     "text": [
      "[('Ocak', 31), ('Şubat', 28), ('Mart', 31), ('Nisan', 30), ('Mayıs', 31), ('Haziran', 30), ('Temmuz', 31), ('Ağustos', 31), ('Eylül', 30), ('Ekim', 31), ('Kasım', 30), ('Aralık', 31)]\n"
     ]
    }
   ],
   "source": [
    "Aylar = {'Ocak':31,'Şubat':28,'Mart':31, 'Nisan':30, 'Mayıs':31, 'Haziran':30, 'Temmuz':31, \n",
    "         'Ağustos':31, 'Eylül':30, 'Ekim':31, 'Kasım':30, 'Aralık':31,}\n",
    "print(list(Aylar.items()))"
   ]
  },
  {
   "cell_type": "markdown",
   "metadata": {},
   "source": [
    "# Veri Yapıları Soru 3"
   ]
  },
  {
   "cell_type": "code",
   "execution_count": 4,
   "metadata": {},
   "outputs": [
    {
     "name": "stdout",
     "output_type": "stream",
     "text": [
      "aylar: [['Ocak', 'Şubat', 'Mart', 'Nisan', 'Mayıs', 'Haziran', 'Temmuz', 'Ağustos', 'Eylül', 'Ekim', 'Kasım', 'Aralık'], [31, 28, 31, 30, 31, 30, 31, 31, 30, 31, 30, 31]]\n"
     ]
    }
   ],
   "source": [
    "aylar_listesi=[list(Aylar.keys()), list(Aylar.values())]\n",
    "print(\"aylar:\", aylar_listesi)"
   ]
  },
  {
   "cell_type": "markdown",
   "metadata": {},
   "source": [
    "# Veri Yapıları Soru 4"
   ]
  },
  {
   "cell_type": "code",
   "execution_count": 6,
   "metadata": {},
   "outputs": [
    {
     "name": "stdout",
     "output_type": "stream",
     "text": [
      "İlkbahar:\n",
      "['Mart', 'Nisan', 'Mayıs']\n",
      "Yaz:\n",
      "['Haziran', 'Temmuz', 'Ağustos']\n",
      "Sonbahar:\n",
      "['Eylül', 'Ekim', 'Kasım']\n",
      "Kış:\n",
      "['Aralık', 'Ocak', 'Şubat']\n"
     ]
    }
   ],
   "source": [
    "ilkbahar=aylar_listesi[0][2:5]\n",
    "yaz=aylar_listesi[0][5:8]\n",
    "sonbahar=aylar_listesi[0][8:11]\n",
    "kis=['Aralık','Ocak','Şubat']\n",
    "mevsimler=[ilkbahar,yaz,sonbahar,kis]\n",
    "print(\"İlkbahar:\", ilkbahar,\"Yaz:\",yaz,\"Sonbahar:\",sonbahar,\"Kış:\",kis, sep=\"\\n\")"
   ]
  },
  {
   "cell_type": "markdown",
   "metadata": {},
   "source": [
    "# Veri Yapıları Soru 4"
   ]
  },
  {
   "cell_type": "code",
   "execution_count": 7,
   "metadata": {},
   "outputs": [
    {
     "name": "stdout",
     "output_type": "stream",
     "text": [
      "92\n"
     ]
    }
   ],
   "source": [
    "yaz_toplam_gun_sayisi=0\n",
    "for ay in range(0,3):\n",
    "    yaz_toplam_gun_sayisi=yaz_toplam_gun_sayisi+Aylar[mevsimler[1][ay]]\n",
    "print(yaz_toplam_gun_sayisi)\n"
   ]
  },
  {
   "cell_type": "code",
   "execution_count": null,
   "metadata": {},
   "outputs": [],
   "source": []
  }
 ],
 "metadata": {
  "kernelspec": {
   "display_name": "Python 3",
   "language": "python",
   "name": "python3"
  },
  "language_info": {
   "codemirror_mode": {
    "name": "ipython",
    "version": 3
   },
   "file_extension": ".py",
   "mimetype": "text/x-python",
   "name": "python",
   "nbconvert_exporter": "python",
   "pygments_lexer": "ipython3",
   "version": "3.7.4"
  }
 },
 "nbformat": 4,
 "nbformat_minor": 2
}
