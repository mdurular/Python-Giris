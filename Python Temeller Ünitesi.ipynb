{
 "cells": [
  {
   "cell_type": "markdown",
   "metadata": {},
   "source": [
    "# Python Temeller ünitesi 1. soru"
   ]
  },
  {
   "cell_type": "code",
   "execution_count": 1,
   "metadata": {},
   "outputs": [
    {
     "name": "stdout",
     "output_type": "stream",
     "text": [
      "Ana Paranızın Değerini giriniz:1000\n",
      "Günlük Faiz Oranını Giriniz:12\n",
      "Gün Sayısını Giriniz:7\n",
      "1210.68\n"
     ]
    }
   ],
   "source": [
    "anapara= int(input(\"Ana Paranızın Değerini giriniz:\"))\n",
    "faiz_orani=input(\"Günlük Faiz Oranını Giriniz:\")\n",
    "gun_sayisi=int(input(\"Gün Sayısını Giriniz:\"))\n",
    "faiz_miktari=(anapara*(1+12/100)**7)-anapara\n",
    "print(\"{:.2f}\".format(faiz_miktari))"
   ]
  },
  {
   "cell_type": "markdown",
   "metadata": {},
   "source": [
    " # Python Temeller ünitesi 2. soru"
   ]
  },
  {
   "cell_type": "code",
   "execution_count": 2,
   "metadata": {},
   "outputs": [
    {
     "name": "stdout",
     "output_type": "stream",
     "text": [
      "Hafta başında 1000 dolarlık bitcoin aldığımızda günde ortalama % 12\n",
      "kazançla bir hafta sonunda 1210.68 dolar kazanırdık\n"
     ]
    }
   ],
   "source": [
    "print(\"Hafta başında\", anapara, \"dolarlık bitcoin aldığımızda günde ortalama %\",faiz_orani,)\n",
    "print( \"kazançla bir hafta sonunda {:.2f} dolar kazanırdık\".format(faiz_miktari))"
   ]
  },
  {
   "cell_type": "markdown",
   "metadata": {},
   "source": [
    "# Python Temeller ünitesi 3. soru"
   ]
  },
  {
   "cell_type": "code",
   "execution_count": 3,
   "metadata": {},
   "outputs": [
    {
     "name": "stdout",
     "output_type": "stream",
     "text": [
      "Dosya Adını Giriniz:şi\n",
      "şi.py\n"
     ]
    }
   ],
   "source": [
    "dosya_adi=input(str(\"Dosya Adını Giriniz:\"))\n",
    "print(dosya_adi+\".py\")"
   ]
  },
  {
   "cell_type": "code",
   "execution_count": null,
   "metadata": {},
   "outputs": [],
   "source": []
  }
 ],
 "metadata": {
  "kernelspec": {
   "display_name": "Python 3",
   "language": "python",
   "name": "python3"
  },
  "language_info": {
   "codemirror_mode": {
    "name": "ipython",
    "version": 3
   },
   "file_extension": ".py",
   "mimetype": "text/x-python",
   "name": "python",
   "nbconvert_exporter": "python",
   "pygments_lexer": "ipython3",
   "version": "3.7.4"
  }
 },
 "nbformat": 4,
 "nbformat_minor": 2
}
