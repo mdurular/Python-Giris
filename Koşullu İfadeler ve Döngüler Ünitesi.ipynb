{
 "cells": [
  {
   "cell_type": "markdown",
   "metadata": {},
   "source": [
    "# Koşullu İfadeler ve Döngüler Ödev1"
   ]
  },
  {
   "cell_type": "code",
   "execution_count": 1,
   "metadata": {},
   "outputs": [
    {
     "name": "stdout",
     "output_type": "stream",
     "text": [
      "Bir Sıcaklık Değeri Giriniz (Ör:40C, 39F):55c\n",
      "131 F\n"
     ]
    }
   ],
   "source": [
    "sicaklik = input(\"Bir Sıcaklık Değeri Giriniz (Ör:40C, 39F):\")\n",
    "if sicaklik[-1].upper() == \"C\":\n",
    "    print(int(int(sicaklik[0:-1])*9/5+32),\"F\")\n",
    "elif sicaklik[-1].upper() == \"F\":\n",
    "    print(int((int(sicaklik[0:-1])-32)*5/9),\"C\")\n",
    "else:\n",
    "    print(\"Geçerli Bir Değer Giriniz\")\n",
    "    "
   ]
  },
  {
   "cell_type": "markdown",
   "metadata": {},
   "source": [
    "#  Koşullu İfadeler ve Döngüler Ödev2"
   ]
  },
  {
   "cell_type": "code",
   "execution_count": 2,
   "metadata": {},
   "outputs": [
    {
     "name": "stdout",
     "output_type": "stream",
     "text": [
      "Lütfen Bir Kelime Yazınız:mehmet\n",
      "Girdiğiniz kelimenin tersten yazılışı: temhem\n"
     ]
    }
   ],
   "source": [
    "kelime=input(\"Lütfen Bir Kelime Yazınız:\")\n",
    "print(\"Girdiğiniz kelimenin tersten yazılışı:\", kelime[::-1])"
   ]
  },
  {
   "cell_type": "markdown",
   "metadata": {},
   "source": [
    "#  Koşullu İfadeler ve Döngüler Ödev3"
   ]
  },
  {
   "cell_type": "code",
   "execution_count": 12,
   "metadata": {},
   "outputs": [
    {
     "name": "stdout",
     "output_type": "stream",
     "text": [
      "fibonacci sayıları: [1, 2, 3, 5, 8, 13, 21, 34]\n"
     ]
    }
   ],
   "source": [
    "x,y=0,1\n",
    "fibonacci=[]\n",
    "while x+y<50:\n",
    "    x,y = y,x+y\n",
    "    fibonacci.append(y)\n",
    "print(\"fibonacci sayıları:\", fibonacci)"
   ]
  },
  {
   "cell_type": "markdown",
   "metadata": {},
   "source": [
    "#  Koşullu İfadeler ve Döngüler Ödev4"
   ]
  },
  {
   "cell_type": "code",
   "execution_count": 16,
   "metadata": {},
   "outputs": [
    {
     "name": "stdout",
     "output_type": "stream",
     "text": [
      "Bir sayı giriniz:6\n",
      "6 X 1 = 6\n",
      "6 X 2 = 12\n",
      "6 X 3 = 18\n",
      "6 X 4 = 24\n",
      "6 X 5 = 30\n",
      "6 X 6 = 36\n",
      "6 X 7 = 42\n",
      "6 X 8 = 48\n",
      "6 X 9 = 54\n",
      "6 X 10 = 60\n"
     ]
    }
   ],
   "source": [
    "girilen_sayi=input(\"Bir sayı giriniz:\")\n",
    "carpim=1\n",
    "while carpim<11:\n",
    "    toplam=int(girilen_sayi)*carpim\n",
    "    print(girilen_sayi, \"X\" ,carpim , \"=\", toplam)\n",
    "    carpim+=1"
   ]
  },
  {
   "cell_type": "markdown",
   "metadata": {},
   "source": [
    "#  Koşullu İfadeler ve Döngüler Ödev5"
   ]
  },
  {
   "cell_type": "code",
   "execution_count": null,
   "metadata": {},
   "outputs": [],
   "source": [
    "çift_rakamlar = []\n",
    "tek_rakamlar = []\n",
    "\n",
    "for n in range(10):\n",
    "    if n % 2 == 0:\n",
    "        çift_rakamlar.append(n)\n",
    "    else:\n",
    "        tek_rakamlar.append(n ** 2)"
   ]
  },
  {
   "cell_type": "code",
   "execution_count": 20,
   "metadata": {},
   "outputs": [
    {
     "name": "stdout",
     "output_type": "stream",
     "text": [
      "Sayılar: [1, 8, 9, 64, 25, 216, 49, 512, 81, 1000, 121, 1728, 169, 2744, 225, 4096, 289, 5832, 361]\n"
     ]
    }
   ],
   "source": [
    "sayilar=[x**3 if x%2==0 else x**2 for x in range(1,20) ]\n",
    "print(\"Sayılar:\",sayilar)"
   ]
  }
 ],
 "metadata": {
  "kernelspec": {
   "display_name": "Python 3",
   "language": "python",
   "name": "python3"
  },
  "language_info": {
   "codemirror_mode": {
    "name": "ipython",
    "version": 3
   },
   "file_extension": ".py",
   "mimetype": "text/x-python",
   "name": "python",
   "nbconvert_exporter": "python",
   "pygments_lexer": "ipython3",
   "version": "3.7.4"
  }
 },
 "nbformat": 4,
 "nbformat_minor": 2
}
