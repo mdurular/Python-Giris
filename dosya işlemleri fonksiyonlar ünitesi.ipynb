{
 "cells": [
  {
   "cell_type": "markdown",
   "metadata": {},
   "source": [
    "# dosya işlemleri fonksiyonlar ünitesi ödev 1"
   ]
  },
  {
   "cell_type": "code",
   "execution_count": 5,
   "metadata": {},
   "outputs": [
    {
     "name": "stdout",
     "output_type": "stream",
     "text": [
      "['Mona Rosa. Siyah güller, ak güller.\\n', \"Geyve'nin gülleri ve beyaz yatak.\\n\", 'Kanadı kırık kuş merhamet ister.\\n', 'Ah senin yüzünden kana batacak.\\n', 'Mona Rosa. Siyah güller, ak güller.\\n', 'Ulur aya karşı kirli çakallar,\\n', 'Ürkek ürkek bakar tavşanlar dağa.\\n', 'Mona Rosa bugün bende bir hal var.\\n', 'Yağmur iri iri düşer toprağa,\\n', 'Ulur aya karşı kirli çakallar.']\n"
     ]
    }
   ],
   "source": [
    "with open(\"siir.txt\",\"r\") as a:\n",
    "    siir=a.readlines()\n",
    "    print(siir)"
   ]
  },
  {
   "cell_type": "code",
   "execution_count": 6,
   "metadata": {},
   "outputs": [
    {
     "data": {
      "text/plain": [
       "['Mona Rosa. Siyah güller, ak güller.\\n',\n",
       " \"Geyve'nin gülleri ve beyaz yatak.\\n\",\n",
       " 'Kanadı kırık kuş merhamet ister.\\n',\n",
       " 'Ah senin yüzünden kana batacak.\\n',\n",
       " 'Mona Rosa. Siyah güller, ak güller.\\n',\n",
       " 'Ulur aya karşı kirli çakallar,\\n',\n",
       " 'Ürkek ürkek bakar tavşanlar dağa.\\n',\n",
       " 'Mona Rosa bugün bende bir hal var.\\n',\n",
       " 'Yağmur iri iri düşer toprağa,\\n',\n",
       " 'Ulur aya karşı kirli çakallar.']"
      ]
     },
     "execution_count": 6,
     "metadata": {},
     "output_type": "execute_result"
    }
   ],
   "source": [
    "[line for line in siir if line!='\\n']"
   ]
  },
  {
   "cell_type": "code",
   "execution_count": 7,
   "metadata": {},
   "outputs": [
    {
     "data": {
      "text/plain": [
       "10"
      ]
     },
     "execution_count": 7,
     "metadata": {},
     "output_type": "execute_result"
    }
   ],
   "source": [
    "len([line for line in siir if line!='\\n'])"
   ]
  },
  {
   "cell_type": "code",
   "execution_count": 8,
   "metadata": {},
   "outputs": [
    {
     "name": "stdout",
     "output_type": "stream",
     "text": [
      "Mona Geyve'nin Kanadı Ah Mona Ulur Ürkek Mona Yağmur Ulur "
     ]
    }
   ],
   "source": [
    "for x in range(len(siir)):\n",
    "    print(siir[x].split()[0], end=\" \")"
   ]
  },
  {
   "cell_type": "markdown",
   "metadata": {},
   "source": [
    "# dosya işlemleri fonksiyonlar ünitesi ödev 2"
   ]
  },
  {
   "cell_type": "code",
   "execution_count": 9,
   "metadata": {},
   "outputs": [
    {
     "name": "stdout",
     "output_type": "stream",
     "text": [
      "bir sayı giriniz:5\n",
      "5 sayısı asaldır.\n"
     ]
    }
   ],
   "source": [
    "x=int(input(\"bir sayı giriniz:\"))\n",
    "\n",
    "def asal(x):\n",
    "    if x == 2 or x == 3 or x == 5:\n",
    "            print (x, \"sayısı asaldır.\")\n",
    "    elif x%2==0 or x%3==0 or x%5==0 or x==1:\n",
    "            print (x, \"sayısı asal değildir\")\n",
    "    else:\n",
    "        print(x, \"sayısı asaldır\")\n",
    "    return\n",
    "\n",
    "asal(x)           \n"
   ]
  },
  {
   "cell_type": "markdown",
   "metadata": {},
   "source": [
    "# dosya işlemleri fonksiyonlar ünitesi ödev 3"
   ]
  },
  {
   "cell_type": "code",
   "execution_count": 1,
   "metadata": {},
   "outputs": [],
   "source": [
    "def yeni_liste(x):\n",
    "    yeni_liste=[]\n",
    "    for eleman in x:\n",
    "        if eleman not in yeni_liste:\n",
    "            yeni_liste.append(eleman)\n",
    "    return yeni_liste\n",
    "            "
   ]
  },
  {
   "cell_type": "code",
   "execution_count": 2,
   "metadata": {},
   "outputs": [
    {
     "data": {
      "text/plain": [
       "[3, 6, 4, 8, 9, 5, 1, 2, 7]"
      ]
     },
     "execution_count": 2,
     "metadata": {},
     "output_type": "execute_result"
    }
   ],
   "source": [
    "liste=[3,3,6,4,8,9,5,6,4,6,1,1,2,7,7]\n",
    "yeni_liste(liste)"
   ]
  },
  {
   "cell_type": "markdown",
   "metadata": {},
   "source": [
    "# dosya işlemleri fonksiyonlar ünitesi ödev 4"
   ]
  },
  {
   "cell_type": "code",
   "execution_count": 3,
   "metadata": {},
   "outputs": [],
   "source": [
    "from datetime import date\n",
    "def calculate_age(dogum):\n",
    "    today = date.today()\n",
    "    return today.year - dogum.year - ((today.month, today.day) < (dogum.month, dogum.day))\n",
    "dogum_tarihi =date(1989, 1, 1)"
   ]
  },
  {
   "cell_type": "code",
   "execution_count": 4,
   "metadata": {},
   "outputs": [
    {
     "data": {
      "text/plain": [
       "30"
      ]
     },
     "execution_count": 4,
     "metadata": {},
     "output_type": "execute_result"
    }
   ],
   "source": [
    "dogum_tarihi =date(1989, 1, 1)\n",
    "calculate_age(dogum_tarihi)"
   ]
  }
 ],
 "metadata": {
  "kernelspec": {
   "display_name": "Python 3",
   "language": "python",
   "name": "python3"
  },
  "language_info": {
   "codemirror_mode": {
    "name": "ipython",
    "version": 3
   },
   "file_extension": ".py",
   "mimetype": "text/x-python",
   "name": "python",
   "nbconvert_exporter": "python",
   "pygments_lexer": "ipython3",
   "version": "3.7.4"
  }
 },
 "nbformat": 4,
 "nbformat_minor": 2
}
